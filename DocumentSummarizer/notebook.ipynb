{
 "cells": [
  {
   "cell_type": "code",
   "execution_count": 3,
   "metadata": {},
   "outputs": [
    {
     "data": {
      "text/plain": [
       "True"
      ]
     },
     "execution_count": 3,
     "metadata": {},
     "output_type": "execute_result"
    }
   ],
   "source": [
    "import os \n",
    "from dotenv import load_dotenv\n",
    "load_dotenv() "
   ]
  },
  {
   "cell_type": "code",
   "execution_count": 4,
   "metadata": {},
   "outputs": [],
   "source": [
    "## Basic Prompt Summarization\n",
    "from langchain.chat_models import ChatOpenAI\n",
    "from langchain.schema import(\n",
    "    AIMessage,\n",
    "    HumanMessage,\n",
    "    SystemMessage\n",
    ")"
   ]
  },
  {
   "cell_type": "code",
   "execution_count": 5,
   "metadata": {},
   "outputs": [],
   "source": [
    "speech=\"\"\"\n",
    "People across the country, involved in government, political, and social activities, are dedicating their time to make the ‘Viksit Bharat Sankalp Yatra’ (Developed India Resolution Journey) successful. Therefore, as a Member of Parliament, it was my responsibility to also contribute my time to this program. So, today, I have come here just as a Member of Parliament and your ‘sevak’, ready to participate in this program, much like you.\n",
    "\n",
    "In our country, governments have come and gone, numerous schemes have been formulated, discussions have taken place, and big promises have been made. However, my experience and observations led me to believe that the most critical aspect that requires attention is ensuring that the government’s plans reach the intended beneficiaries without any hassles. If there is a ‘Pradhan Mantri Awas Yojana’ (Prime Minister’s housing scheme), then those who are living in jhuggis and slums should get their houses. And he should not need to make rounds of the government offices for this purpose. The government should reach him. Since you have assigned this responsibility to me, about four crore families have got their ‘pucca’ houses. However, I have encountered cases where someone is left out of the government benefits. Therefore, I have decided to tour the country again, to listen to people’s experiences with government schemes, to understand whether they received the intended benefits, and to ensure that the programs are reaching everyone as planned without paying any bribes. We will get the real picture if we visit them again. Therefore, this ‘Viksit Bharat Sankalp Yatra’ is, in a way, my own examination. I want to hear from you and the people across the country whether what I envisioned and the work I have been doing aligns with reality and whether it has reached those for whom it was meant.\n",
    "\n",
    "It is crucial to check whether the work that was supposed to happen has indeed taken place. I recently met some individuals who utilized the Ayushman card to get treatment for serious illnesses. One person met with a severe accident, and after using the card, he could afford the necessary operation, and now he is recovering well. When I asked him, he said: “How could I afford this treatment? Now that there is the Ayushman card, I mustered courage and underwent an operation. Now I am perfectly fine.”  Such stories are blessings to me.\n",
    "\n",
    "The bureaucrats, who prepare good schemes, expedite the paperwork and even allocate funds, also feel satisfied that 50 or 100 people who were supposed to get the funds have got it. The funds meant for a thousand villages have been released. But their job satisfaction peaks when they hear that their work has directly impacted someone’s life positively. When they see the tangible results of their efforts, their enthusiasm multiplies. They feel satisfied. Therefore, ‘Viksit Bharat Sankalp Yatra’ has had a positive impact on government officers. It has made them more enthusiastic about their work, especially when they witness the tangible benefits reaching the people. Officers now feel satisfied with their work, saying, “I made a good plan, I created a file, and the intended beneficiaries received the benefits.” When they find that the money has reached a poor widow under the Jeevan Jyoti scheme and it was a great help to her during her crisis, they realise that they have done a good job. When a government officer listens to such stories, he feels very satisfied.\n",
    "\n",
    "There are very few who understand the power and impact of the ‘Viksit Bharat Sankalp Yatra’. When I hear people connected to bureaucratic circles talking about it, expressing their satisfaction, it resonates with me. I’ve heard stories where someone suddenly received 2 lakh rupees after the death of her husband, and a sister mentioned how the arrival of gas in her home transformed her lives. The most significant aspect is when someone says that the line between rich and poor has vanished. While the slogan ‘Garibi Hatao’ (Remove Poverty) is one thing, but the real change happens when a person says, “As soon as the gas stove came to my house, the distinction between poverty and affluence disappeared.\n",
    "\"\"\""
   ]
  },
  {
   "cell_type": "code",
   "execution_count": 6,
   "metadata": {},
   "outputs": [
    {
     "name": "stderr",
     "output_type": "stream",
     "text": [
      "/tmp/ipykernel_3016249/3902667386.py:6: LangChainDeprecationWarning: The class `ChatOpenAI` was deprecated in LangChain 0.0.10 and will be removed in 1.0. An updated version of the class exists in the :class:`~langchain-openai package and should be used instead. To use it run `pip install -U :class:`~langchain-openai` and import as `from :class:`~langchain_openai import ChatOpenAI``.\n",
      "  llm=ChatOpenAI(model_name='gpt-3.5-turbo')\n"
     ]
    }
   ],
   "source": [
    "chat_messages=[\n",
    "    SystemMessage(content='You are an expert assistant with expertize in summarizing speeches'),\n",
    "    HumanMessage(content=f'Please provide a short and concise summary of the following speech:\\n TEXT: {speech}')\n",
    "]\n",
    "\n",
    "llm=ChatOpenAI(model_name='gpt-3.5-turbo')\n"
   ]
  },
  {
   "cell_type": "code",
   "execution_count": 7,
   "metadata": {},
   "outputs": [
    {
     "data": {
      "text/plain": [
       "866"
      ]
     },
     "execution_count": 7,
     "metadata": {},
     "output_type": "execute_result"
    }
   ],
   "source": [
    "##total tokens\n",
    "llm.get_num_tokens(speech)"
   ]
  },
  {
   "cell_type": "code",
   "execution_count": 8,
   "metadata": {},
   "outputs": [
    {
     "name": "stderr",
     "output_type": "stream",
     "text": [
      "/tmp/ipykernel_3016249/1441627176.py:1: LangChainDeprecationWarning: The method `BaseChatModel.__call__` was deprecated in langchain-core 0.1.7 and will be removed in 1.0. Use :meth:`~invoke` instead.\n",
      "  llm(chat_messages).content\n"
     ]
    },
    {
     "data": {
      "text/plain": [
       "\"In his speech, the Member of Parliament discusses his involvement in the 'Viksit Bharat Sankalp Yatra' aimed at ensuring government schemes reach intended beneficiaries smoothly. He emphasizes the importance of programs directly benefiting people without bureaucratic hurdles, sharing success stories like individuals benefiting from the Ayushman card. The MP highlights the satisfaction felt by bureaucrats when they witness the positive impact of their work on people's lives. He stresses the importance of tangible results and recounts instances where government schemes have made a significant difference in people's lives, bridging gaps between rich and poor. The 'Viksit Bharat Sankalp Yatra' is seen as a transformative journey that boosts enthusiasm among officers and brings real benefits to the populace.\""
      ]
     },
     "execution_count": 8,
     "metadata": {},
     "output_type": "execute_result"
    }
   ],
   "source": [
    "llm(chat_messages).content"
   ]
  },
  {
   "cell_type": "code",
   "execution_count": 9,
   "metadata": {},
   "outputs": [
    {
     "name": "stdout",
     "output_type": "stream",
     "text": [
      "The speech highlights the importance of ensuring government schemes reach the intended beneficiaries effectively and without any obstacles. The speaker, a Member of Parliament, emphasizes the need to tour the country to hear people's experiences with government programs and ensure they are benefiting as intended. The impact of successful implementation is illustrated through stories of individuals benefiting from schemes like the Ayushman card and government officers feeling satisfied when their work positively impacts people's lives. The 'Viksit Bharat Sankalp Yatra' is praised for its positive impact on both beneficiaries and government officers, leading to increased enthusiasm and job satisfaction. Ultimately, the goal is to bridge the gap between rich and poor by ensuring tangible benefits reach those in need.\n"
     ]
    }
   ],
   "source": [
    "##get_summary\n",
    "print(llm(chat_messages).content)"
   ]
  },
  {
   "cell_type": "markdown",
   "metadata": {},
   "source": [
    "## Prompt Templates Text Summarization"
   ]
  },
  {
   "cell_type": "code",
   "execution_count": 10,
   "metadata": {},
   "outputs": [],
   "source": [
    "from langchain.chains import LLMChain\n",
    "from langchain import PromptTemplate"
   ]
  },
  {
   "cell_type": "code",
   "execution_count": 11,
   "metadata": {},
   "outputs": [],
   "source": [
    "generic_template='''\n",
    "Write a summary of the following speech:\n",
    "Speech : `{speech}`\n",
    "Translate the precise summary to {language}.\n",
    "\n",
    "'''\n",
    "prompt=PromptTemplate(\n",
    "    input_variables=['speech','language'],\n",
    "    template=generic_template\n",
    ")"
   ]
  },
  {
   "cell_type": "code",
   "execution_count": 12,
   "metadata": {},
   "outputs": [
    {
     "data": {
      "text/plain": [
       "'\\nWrite a summary of the following speech:\\nSpeech : `\\nPeople across the country, involved in government, political, and social activities, are dedicating their time to make the ‘Viksit Bharat Sankalp Yatra’ (Developed India Resolution Journey) successful. Therefore, as a Member of Parliament, it was my responsibility to also contribute my time to this program. So, today, I have come here just as a Member of Parliament and your ‘sevak’, ready to participate in this program, much like you.\\n\\nIn our country, governments have come and gone, numerous schemes have been formulated, discussions have taken place, and big promises have been made. However, my experience and observations led me to believe that the most critical aspect that requires attention is ensuring that the government’s plans reach the intended beneficiaries without any hassles. If there is a ‘Pradhan Mantri Awas Yojana’ (Prime Minister’s housing scheme), then those who are living in jhuggis and slums should get their houses. And he should not need to make rounds of the government offices for this purpose. The government should reach him. Since you have assigned this responsibility to me, about four crore families have got their ‘pucca’ houses. However, I have encountered cases where someone is left out of the government benefits. Therefore, I have decided to tour the country again, to listen to people’s experiences with government schemes, to understand whether they received the intended benefits, and to ensure that the programs are reaching everyone as planned without paying any bribes. We will get the real picture if we visit them again. Therefore, this ‘Viksit Bharat Sankalp Yatra’ is, in a way, my own examination. I want to hear from you and the people across the country whether what I envisioned and the work I have been doing aligns with reality and whether it has reached those for whom it was meant.\\n\\nIt is crucial to check whether the work that was supposed to happen has indeed taken place. I recently met some individuals who utilized the Ayushman card to get treatment for serious illnesses. One person met with a severe accident, and after using the card, he could afford the necessary operation, and now he is recovering well. When I asked him, he said: “How could I afford this treatment? Now that there is the Ayushman card, I mustered courage and underwent an operation. Now I am perfectly fine.”  Such stories are blessings to me.\\n\\nThe bureaucrats, who prepare good schemes, expedite the paperwork and even allocate funds, also feel satisfied that 50 or 100 people who were supposed to get the funds have got it. The funds meant for a thousand villages have been released. But their job satisfaction peaks when they hear that their work has directly impacted someone’s life positively. When they see the tangible results of their efforts, their enthusiasm multiplies. They feel satisfied. Therefore, ‘Viksit Bharat Sankalp Yatra’ has had a positive impact on government officers. It has made them more enthusiastic about their work, especially when they witness the tangible benefits reaching the people. Officers now feel satisfied with their work, saying, “I made a good plan, I created a file, and the intended beneficiaries received the benefits.” When they find that the money has reached a poor widow under the Jeevan Jyoti scheme and it was a great help to her during her crisis, they realise that they have done a good job. When a government officer listens to such stories, he feels very satisfied.\\n\\nThere are very few who understand the power and impact of the ‘Viksit Bharat Sankalp Yatra’. When I hear people connected to bureaucratic circles talking about it, expressing their satisfaction, it resonates with me. I’ve heard stories where someone suddenly received 2 lakh rupees after the death of her husband, and a sister mentioned how the arrival of gas in her home transformed her lives. The most significant aspect is when someone says that the line between rich and poor has vanished. While the slogan ‘Garibi Hatao’ (Remove Poverty) is one thing, but the real change happens when a person says, “As soon as the gas stove came to my house, the distinction between poverty and affluence disappeared.\\n`\\nTranslate the precise summary to Urdu.\\n\\n'"
      ]
     },
     "execution_count": 12,
     "metadata": {},
     "output_type": "execute_result"
    }
   ],
   "source": [
    "prompt.format(speech=speech,language='Urdu')"
   ]
  },
  {
   "cell_type": "code",
   "execution_count": 13,
   "metadata": {},
   "outputs": [],
   "source": [
    "complete_prompt=prompt.format(speech=speech,language='Urdu')"
   ]
  },
  {
   "cell_type": "code",
   "execution_count": 14,
   "metadata": {},
   "outputs": [
    {
     "data": {
      "text/plain": [
       "885"
      ]
     },
     "execution_count": 14,
     "metadata": {},
     "output_type": "execute_result"
    }
   ],
   "source": [
    "llm.get_num_tokens(complete_prompt)"
   ]
  },
  {
   "cell_type": "code",
   "execution_count": 15,
   "metadata": {},
   "outputs": [
    {
     "name": "stderr",
     "output_type": "stream",
     "text": [
      "/tmp/ipykernel_3016249/801067329.py:1: LangChainDeprecationWarning: The class `LLMChain` was deprecated in LangChain 0.1.17 and will be removed in 1.0. Use :meth:`~RunnableSequence, e.g., `prompt | llm`` instead.\n",
      "  llm_chain=LLMChain(llm=llm,prompt=prompt)\n",
      "/tmp/ipykernel_3016249/801067329.py:2: LangChainDeprecationWarning: The method `Chain.run` was deprecated in langchain 0.1.0 and will be removed in 1.0. Use :meth:`~invoke` instead.\n",
      "  summary=llm_chain.run({'speech':speech,'language':'Urdu'})\n"
     ]
    }
   ],
   "source": [
    "llm_chain=LLMChain(llm=llm,prompt=prompt)\n",
    "summary=llm_chain.run({'speech':speech,'language':'Urdu'})"
   ]
  },
  {
   "cell_type": "code",
   "execution_count": 16,
   "metadata": {},
   "outputs": [
    {
     "data": {
      "text/plain": [
       "'اس سخنرانی میں بیان کیا گیا ہے کہ حکومتی، سیاسی، اور سماجی فعالیتوں میں مصروف لوگوں نے \\'وکسیت بھارت سنکلپ یاترا\\' کامیاب بنانے کے لیے اپنا وقت دینا شروع کیا ہے۔ اس لیے، ایک پارلیمنٹ کے رکن کے طور پر میری ذمہ داری بھی ہے کہ میں اس پروگرام میں اپنا وقت شامل کروں۔ میں آج صرف ایک پارلیمنٹ کے رکن اور آپ کا \\'سیوک\\' کے طور پر یہاں آیا ہوں تاکہ اس پروگرام میں شرکت کروں۔\\n\\nمیرے ملک میں، حکومتیں آئیں اور گئیں، بیشمار منصوبے بنائے گئے، بات چیت ہوئی، اور بڑے وعدے کئے گئے۔ تاہم، میری تجربے اور توجہ نے مجھے یقین دلایا کہ سب سے اہم جانب یہ ہے کہ حکومت کے منصوبے مقصد مندوں تک بغیر کسی پریشانی کے پہنچیں۔ اگر \\'پردھان منتری آواس یوجنا\\' (وزیر اعظم کا مکانی منصوبہ) ہے تو پھر جو لوگ جھوگیوں اور سلموں میں رہتے ہیں، انہیں ان کے گھروں کو ملنا چاہیے۔ اور انہیں اس لیے حکومتی دفاتر کا چکر نہ کاٹنا چاہیے۔ حکومت کو ان تک پہنچنا چاہیے۔ میری ذمہ داری کے تقریباً چار کروڑ خاندانوں کو ان کے \\'پکا\\' گھروں مل چکے ہیں۔ تاہم، میں ایسے مواقع کا سامنا کرتا ہوں جہاں کوئی حکومتی فوائد سے محروم رہ جاتا ہے۔ اس لیے، میں پھر ملک کی سیر کرنے کا فیصلہ کیا ہے، تاکہ لوگوں کے تجربات کو سنا جائے، سمجھا جائے کہ کیا وہ منصوبوں سے مقصد مند مواقع حاصل کر چکے ہیں، اور یہ یقینی بنایا جائے کہ پروگرام کسی کو بھی رشوت دینے کے بغیر پلان کے مطابق سب تک پہنچ رہے ہیں۔\\n\\nحکومتی افسران، جو اچھے منصوبے تیار کرتے ہیں، کاغذات تیار کرتے ہیں، اور فنڈز بھی تجویز کرتے ہیں، بھی خوش ہوتے ہیں جب وہ سنتے ہیں کہ پچاس یا سو لوگ جنہیں فنڈز ملنے تھے، انہیں مل گئے ہیں۔ ایک ہزار گاؤں کے لیے مخصوص فنڈز جاری کئے گئے ہیں۔ لیکن جب وہ دیکھتے ہیں کہ ان کی کوششوں کا صرف سرگرمی کسی کے زندگی پر مثبت اثر پڑھا ہے تو ان کی حوصلہ افزائی ہوتی ہے۔ وہ خوش ہوتے ہیں۔ اس لیے، \\'وکسیت بھارت سنکلپ یاترا\\' نے حکومتی افسران پر مثبت اثر ڈالا ہے۔ یہ انہیں ان کے کام پر زیادہ جوشی محسوس کرنے کی بنا دیتا ہے، خاص طور پر جب وہ دیکھتے ہیں کہ موادی فوائد لوگوں تک پہنچ رہے ہیں۔ افسران اب اپنے کام سے خوش ہوتے ہیں، کہتے ہیں، \"میں نے ایک اچھا پلان بنایا، میں نے ایک فائل تیار کی، اور مقصد مند فوائد حاصل ہو گئے۔\" جب انہیں دیکھنے کو ملتا ہے کہ کسی غریب بیوہ کو جیون جیوٹی منصوبہ کے تحت رقم مل گئی اور یہ اسے اس کی مصیبت کے دوران بہت مددگار ثابت ہوئی، تو انہیں یہ محسوس ہوتا ہے کہ انہوں نے ایک اچھا کام کیا ہے۔ جب ایک حکومتی افسر ایسی کہانیاں سنتا ہے، تو انہیں بہت خوشی محسوس ہوتی ہے۔\\n\\nکچھ ہی لوگ ہیں جو \\'وکسیت بھارت سنکلپ یاترا\\' کی قوت اور اثرات کو سمجھتے ہیں۔ جب میں افسرانی دائروں کے لوگوں سے اس بارے میں بات کرتا ہوں، ان کی خوشی کو بیان کرتے ہوئے، میرے دل کو اچھی طرح سمجھ آتی ہے۔ میں نے کچھ کہانیاں سنی ہیں جہاں کسی خاتون نے اپنے شوہر کی وفات کے بعد اچانک دو لاکھ روپے حاصل کیے، اور ایک بہن نے بتایا کہ ان کے گھر میں گیس آنے سے ان کی زندگیاں بدل گئیں۔ سب سے اہم بات یہ ہے جب کوئی کہتا ہے کہ غریبی اور امیری کا فرق گئے وقت کا ہو گیا ہے۔ \\'گریبی ہٹاؤ\\' کا نعرہ ایک بات ہے، لیکن اصل تبدیلی اس وقت ہوتی ہے جب کوئی کہتا ہے، \"جب گیس کا برتن میرے گھر آیا، تو غریبی اور امیری کا فرق غائب ہو گیا۔\"'"
      ]
     },
     "execution_count": 16,
     "metadata": {},
     "output_type": "execute_result"
    }
   ],
   "source": [
    "summary"
   ]
  },
  {
   "cell_type": "markdown",
   "metadata": {},
   "source": [
    "## StuffDocumentChain Text Summarization"
   ]
  },
  {
   "cell_type": "code",
   "execution_count": 17,
   "metadata": {},
   "outputs": [],
   "source": [
    "from PyPDF2 import PdfReader"
   ]
  },
  {
   "cell_type": "code",
   "execution_count": 30,
   "metadata": {},
   "outputs": [],
   "source": [
    "# provide the path of  pdf file/files.\n",
    "pdfreader = PdfReader('Abbreviations.pdf')"
   ]
  },
  {
   "cell_type": "code",
   "execution_count": 31,
   "metadata": {},
   "outputs": [],
   "source": [
    "from typing_extensions import Concatenate\n",
    "# read text from pdf\n",
    "text = ''\n",
    "for i, page in enumerate(pdfreader.pages):\n",
    "    content = page.extract_text()\n",
    "    if content:\n",
    "        text += content"
   ]
  },
  {
   "cell_type": "code",
   "execution_count": 32,
   "metadata": {},
   "outputs": [
    {
     "data": {
      "text/plain": [
       "'\\\\Ser Word  Abbreviation  \\n1 Gps aided geo augmented navigation  GAGAN  \\n2 Account  Acct \\n3 Additional, additionally  Addl  \\n4 Addition  Addn  \\n5 Administration  admin  \\n6 armed forces  AF \\n7 Armed forces special power act  AFSPA  \\n8 Approach , Aproaches  Apch \\n9 Application  Appl \\n10 Attack  Atk \\n11 Attention  Attn \\n12 Advanced technology vehicle  ATV \\n13 Automatic  auto \\n14 Available  Avail  \\n15 Between  b/w \\n16 Border  Bdr \\n17 Borders  Bdrs \\n18 Boundary  Bfry \\n19 Building  Bldg \\n20 Calculation  calc \\n21 Capabilities  Cap \\n22 Combatants  Cbt \\n23 Commander  Cdr \\n24 Characterized  Char  \\n25 Comments  Cm \\n26 Commands  Cmd  \\n27 Collaboration  Colb \\n28 Community, communities  Com  \\n29 Command, Commands, Commanding  comd \\n30 Communication  Comm  \\n31 Control  Con \\n32 Conclude, conclusion  Concl  \\n33 Consultation  Conslt  \\n34 Continuous , Continuously  cont \\n35 Cooperation  coop  \\n36 Decrease , Decreases, Decreasing  dec \\n37 Defense  def \\n38 Demographic  Demo  39 Deployment,Deployed  Depl \\n40 Department  Dept  \\n41 Development  Dev  \\n42 Development, develop  Devp  \\n43 Different  diff \\n44 Direction , Directions  Dir \\n45 Discipline , Disciplines  Discp \\n46 Distance  Dist \\n47 Distribution  Distr \\n48 District  Distt \\n49 Document  Docu  \\n50 Economic  Ec \\n51 Effect  eff \\n52 Electric , Electrical, Electronic  Elec \\n53 Elements  elms  \\n54 Employ , Employed, Employee  Emp \\n55 Environment  Env \\n56 Environment , Environments ,  Environmental  Envmt  \\n57 Equipment  Epqt \\n58 Estimate , Esti mated   est \\n59 Exercise  Ex \\n60 Executed   Exec  \\n61 Expressed  Expd  \\n62 Flight  Flt \\n63 Follow , Followed, Following  Fol \\n64 Frequencies   Freq \\n65 Geographical  Geo \\n66 Government, governments  Govt  \\n67 Group  gp \\n68 Ground  gr \\n69 Geosynchronous satellite launch vehicle  GSLV  \\n70 Geosynchronous transfer orbit  GTO  \\n71 Identification  Ident  \\n72 Important  Imp \\n73 Important, importance  Imp  \\n74 Improvement  Impro  \\n75 Increase  inc \\n76 Include  incl \\n77 Increase, increased or increment  Incr 78 Independence  Indp \\n79 Information  inf \\n80 Infiltration  Infl \\n81 Information , informations  Info \\n82 Infrastructure  Infra \\n83 Institutions  Inst \\n84 International  intl  \\n85 Introduction  Intro \\n86 Insurgent organizations  IOs \\n87 Indo-pacific  IP \\n88 Indian regional navigation satellite system  IRNSS  \\n89 Indian space research org  Isro \\n90 Jammu  kashmir  J & K  \\n91 Kilometers  kms \\n92 Leading  Ldg \\n93 Literature  Lit \\n94 Location  loc \\n95 Level  Lvl \\n96 Maintain , Maint aining  Maint \\n97 Major  Maj \\n98 Mars colour camera  MCC  \\n99 Mechanical, mechanism  mech  \\n100 Management  mgmt  \\n101 Min of home affairs  MHA  \\n102 Military, militaries  Mil  \\n103 Ministry of Defence  MOD  \\n104 Military operations other than war  MOOTW  \\n105 Movement  Mov \\n106 Mission  Msn \\n107 North atlantic free trade agreement  NAFTA  \\n108 Negative  neg  \\n109 North east region  NER  \\n110 National socialist council of nagaland  NSCN  \\n111 Offensive  Ofn \\n112 Operational , operation, operating  op \\n113 Operations  Ops \\n114 Organization, organized  Orgs  \\n115 Phase  Ph \\n116 Physical  phy 117 Paramilitary  pmil \\n118 Political  pol \\n119 Position  Pos \\n120 People republic of china  PRC  \\n121 Primary , Primarily , priority  Pri \\n122 Production  prod  \\n123 Programme  progm  \\n124 Polar satellite launch vehicle  PSLV  \\n125 Point, Points  Pt \\n126 Quarter  qtr \\n127 Road  Rd \\n128 Reference  Ref \\n129 Rehabilitation, rehabilitate  Rehab  \\n130 Requirements  Req \\n131 Remote sensing  RS \\n132 Responsible  Rsp \\n133 Satellite  Sat \\n134 Selection  Sel \\n135 September  Sep \\n136 Significant  Sign \\n137 Support  Sp \\n138 Station , Stations  sta \\n139 Strength  Str \\n140 Strategic  strat  \\n141 Subject , Subjects, Subjected  subj \\n142 Supply , Supplying  Sup \\n143 Surveillance  Sur \\n144 Survey  Svy \\n145 Service  Svc \\n146 System  sys \\n147 Technology  Tech  \\n148 Tele command  Tele-comd  \\n149 Temperature, Temporary  temp \\n150 Transfer , Transfers, Transferring , Transferred  tfr \\n151 Troops  Tps \\n152 Transport  Tpt  \\n153 Transported  Tptd  \\n154 Track  Tr \\n155 Unemployment  Unemp  156 University  Uni \\n157 Vehicle  veh \\n158 Violence  Vio \\n159 Vulnerabilities  Vuln \\n160 Weaponry, weapons  Wpn \\n161 Weight  Wt \\n '"
      ]
     },
     "execution_count": 32,
     "metadata": {},
     "output_type": "execute_result"
    }
   ],
   "source": [
    "text"
   ]
  },
  {
   "cell_type": "code",
   "execution_count": 33,
   "metadata": {},
   "outputs": [],
   "source": [
    "from langchain.docstore.document import Document"
   ]
  },
  {
   "cell_type": "code",
   "execution_count": 34,
   "metadata": {},
   "outputs": [
    {
     "data": {
      "text/plain": [
       "[Document(metadata={}, page_content='\\\\Ser Word  Abbreviation  \\n1 Gps aided geo augmented navigation  GAGAN  \\n2 Account  Acct \\n3 Additional, additionally  Addl  \\n4 Addition  Addn  \\n5 Administration  admin  \\n6 armed forces  AF \\n7 Armed forces special power act  AFSPA  \\n8 Approach , Aproaches  Apch \\n9 Application  Appl \\n10 Attack  Atk \\n11 Attention  Attn \\n12 Advanced technology vehicle  ATV \\n13 Automatic  auto \\n14 Available  Avail  \\n15 Between  b/w \\n16 Border  Bdr \\n17 Borders  Bdrs \\n18 Boundary  Bfry \\n19 Building  Bldg \\n20 Calculation  calc \\n21 Capabilities  Cap \\n22 Combatants  Cbt \\n23 Commander  Cdr \\n24 Characterized  Char  \\n25 Comments  Cm \\n26 Commands  Cmd  \\n27 Collaboration  Colb \\n28 Community, communities  Com  \\n29 Command, Commands, Commanding  comd \\n30 Communication  Comm  \\n31 Control  Con \\n32 Conclude, conclusion  Concl  \\n33 Consultation  Conslt  \\n34 Continuous , Continuously  cont \\n35 Cooperation  coop  \\n36 Decrease , Decreases, Decreasing  dec \\n37 Defense  def \\n38 Demographic  Demo  39 Deployment,Deployed  Depl \\n40 Department  Dept  \\n41 Development  Dev  \\n42 Development, develop  Devp  \\n43 Different  diff \\n44 Direction , Directions  Dir \\n45 Discipline , Disciplines  Discp \\n46 Distance  Dist \\n47 Distribution  Distr \\n48 District  Distt \\n49 Document  Docu  \\n50 Economic  Ec \\n51 Effect  eff \\n52 Electric , Electrical, Electronic  Elec \\n53 Elements  elms  \\n54 Employ , Employed, Employee  Emp \\n55 Environment  Env \\n56 Environment , Environments ,  Environmental  Envmt  \\n57 Equipment  Epqt \\n58 Estimate , Esti mated   est \\n59 Exercise  Ex \\n60 Executed   Exec  \\n61 Expressed  Expd  \\n62 Flight  Flt \\n63 Follow , Followed, Following  Fol \\n64 Frequencies   Freq \\n65 Geographical  Geo \\n66 Government, governments  Govt  \\n67 Group  gp \\n68 Ground  gr \\n69 Geosynchronous satellite launch vehicle  GSLV  \\n70 Geosynchronous transfer orbit  GTO  \\n71 Identification  Ident  \\n72 Important  Imp \\n73 Important, importance  Imp  \\n74 Improvement  Impro  \\n75 Increase  inc \\n76 Include  incl \\n77 Increase, increased or increment  Incr 78 Independence  Indp \\n79 Information  inf \\n80 Infiltration  Infl \\n81 Information , informations  Info \\n82 Infrastructure  Infra \\n83 Institutions  Inst \\n84 International  intl  \\n85 Introduction  Intro \\n86 Insurgent organizations  IOs \\n87 Indo-pacific  IP \\n88 Indian regional navigation satellite system  IRNSS  \\n89 Indian space research org  Isro \\n90 Jammu  kashmir  J & K  \\n91 Kilometers  kms \\n92 Leading  Ldg \\n93 Literature  Lit \\n94 Location  loc \\n95 Level  Lvl \\n96 Maintain , Maint aining  Maint \\n97 Major  Maj \\n98 Mars colour camera  MCC  \\n99 Mechanical, mechanism  mech  \\n100 Management  mgmt  \\n101 Min of home affairs  MHA  \\n102 Military, militaries  Mil  \\n103 Ministry of Defence  MOD  \\n104 Military operations other than war  MOOTW  \\n105 Movement  Mov \\n106 Mission  Msn \\n107 North atlantic free trade agreement  NAFTA  \\n108 Negative  neg  \\n109 North east region  NER  \\n110 National socialist council of nagaland  NSCN  \\n111 Offensive  Ofn \\n112 Operational , operation, operating  op \\n113 Operations  Ops \\n114 Organization, organized  Orgs  \\n115 Phase  Ph \\n116 Physical  phy 117 Paramilitary  pmil \\n118 Political  pol \\n119 Position  Pos \\n120 People republic of china  PRC  \\n121 Primary , Primarily , priority  Pri \\n122 Production  prod  \\n123 Programme  progm  \\n124 Polar satellite launch vehicle  PSLV  \\n125 Point, Points  Pt \\n126 Quarter  qtr \\n127 Road  Rd \\n128 Reference  Ref \\n129 Rehabilitation, rehabilitate  Rehab  \\n130 Requirements  Req \\n131 Remote sensing  RS \\n132 Responsible  Rsp \\n133 Satellite  Sat \\n134 Selection  Sel \\n135 September  Sep \\n136 Significant  Sign \\n137 Support  Sp \\n138 Station , Stations  sta \\n139 Strength  Str \\n140 Strategic  strat  \\n141 Subject , Subjects, Subjected  subj \\n142 Supply , Supplying  Sup \\n143 Surveillance  Sur \\n144 Survey  Svy \\n145 Service  Svc \\n146 System  sys \\n147 Technology  Tech  \\n148 Tele command  Tele-comd  \\n149 Temperature, Temporary  temp \\n150 Transfer , Transfers, Transferring , Transferred  tfr \\n151 Troops  Tps \\n152 Transport  Tpt  \\n153 Transported  Tptd  \\n154 Track  Tr \\n155 Unemployment  Unemp  156 University  Uni \\n157 Vehicle  veh \\n158 Violence  Vio \\n159 Vulnerabilities  Vuln \\n160 Weaponry, weapons  Wpn \\n161 Weight  Wt \\n ')]"
      ]
     },
     "execution_count": 34,
     "metadata": {},
     "output_type": "execute_result"
    }
   ],
   "source": [
    "docs = [Document(page_content=text)]\n",
    "docs"
   ]
  },
  {
   "cell_type": "code",
   "execution_count": 35,
   "metadata": {},
   "outputs": [],
   "source": [
    "llm = ChatOpenAI(temperature=0, model_name='gpt-3.5-turbo')"
   ]
  },
  {
   "cell_type": "code",
   "execution_count": 36,
   "metadata": {},
   "outputs": [],
   "source": [
    "from langchain import PromptTemplate\n",
    "from langchain.chat_models import ChatOpenAI\n",
    "from langchain.chains.summarize import load_summarize_chain\n",
    "from langchain.docstore.document import Document"
   ]
  },
  {
   "cell_type": "code",
   "execution_count": 37,
   "metadata": {},
   "outputs": [],
   "source": [
    "template = '''Write a concise and short summary of the following: `{text}`\n",
    "'''\n",
    "prompt = PromptTemplate(\n",
    "    input_variables=['text'],\n",
    "    template=template\n",
    ")"
   ]
  },
  {
   "cell_type": "code",
   "execution_count": 38,
   "metadata": {},
   "outputs": [],
   "source": [
    "chain = load_summarize_chain(\n",
    "    llm,\n",
    "    chain_type='stuff',\n",
    "    prompt=prompt,\n",
    "    verbose=False\n",
    ")\n",
    "output_summary = chain.run(docs)"
   ]
  },
  {
   "cell_type": "code",
   "execution_count": 39,
   "metadata": {},
   "outputs": [
    {
     "data": {
      "text/plain": [
       "'This is a list of word abbreviations commonly used in various fields such as navigation, military, government, and technology. Each abbreviation corresponds to a specific word or phrase to make communication more efficient and concise.'"
      ]
     },
     "execution_count": 39,
     "metadata": {},
     "output_type": "execute_result"
    }
   ],
   "source": [
    "output_summary"
   ]
  },
  {
   "cell_type": "markdown",
   "metadata": {},
   "source": [
    "## Summarizing Large Documents Using Map Reduce"
   ]
  },
  {
   "cell_type": "code",
   "execution_count": 40,
   "metadata": {},
   "outputs": [],
   "source": [
    "from langchain import PromptTemplate\n",
    "from langchain.chat_models import ChatOpenAI\n",
    "from langchain.chains.summarize import load_summarize_chain\n",
    "from langchain.text_splitter import RecursiveCharacterTextSplitter"
   ]
  },
  {
   "cell_type": "code",
   "execution_count": 41,
   "metadata": {},
   "outputs": [],
   "source": [
    "# provide the path of  pdf file/files.\n",
    "pdfreader = PdfReader('IndianCapability.pdf')\n",
    "from typing_extensions import Concatenate\n",
    "# read text from pdf\n",
    "text = ''\n",
    "for i, page in enumerate(pdfreader.pages):\n",
    "    content = page.extract_text()\n",
    "    if content:\n",
    "        text += content"
   ]
  },
  {
   "cell_type": "code",
   "execution_count": 54,
   "metadata": {},
   "outputs": [],
   "source": [
    "from langchain_core.prompts import ChatPromptTemplate\n",
    "from langchain_ollama.llms import OllamaLLM"
   ]
  },
  {
   "cell_type": "code",
   "execution_count": 55,
   "metadata": {},
   "outputs": [
    {
     "data": {
      "text/plain": [
       "'LangChain appears to be a term that might not directly refer to a well-known specific technology or concept without additional context. However, based on the name and the structure of \"Lang\" (likely short for language) and \"Chain,\" we can make some educated guesses:\\n\\n1. **Possible Contexts:**\\n   - **Natural Language Processing (NLP):** Lang might be related to natural language processing techniques used in machine learning models.\\n   - **Blockchain Technology:** Chain suggests a chain or network, which could refer to blockchain technology where data is stored across multiple nodes in a decentralized manner.\\n   - **Language Models and Chains of Thought:** In the context of AI and machine learning, \"Lang\" might be related to language models, while \"Chain\" might refer to reasoning processes like chains of thought.\\n\\n2. **Potential Applications:**\\n   - **NLP with Blockchain:** If Lang is about natural language processing and Chain refers to blockchain, it could mean integrating NLP capabilities into a blockchain-based system.\\n   - **Chains of Thought in AI Models:** In the realm of AI, \"Lang\" might refer to the language understanding or generation abilities of an AI model, while \"Chain\" could indicate a step-by-step reasoning process.\\n\\n3. **Research and Development:**\\n   - LangChain might be a term used in research papers, projects, or development teams working on integrating advanced NLP capabilities with blockchain technology for more sophisticated applications like secure, verifiable language processing in decentralized networks.\\n   \\n4. **Specific Implementation:**\\n   - Without specific information, it\\'s challenging to provide a precise definition, but LangChain could refer to a system that uses language models to process and validate data across a blockchain network, ensuring that the natural language input is correctly interpreted and used for transactions or smart contracts.\\n\\nIf you have any more context about where you encountered this term, please provide additional details so I can give a more accurate explanation.'"
      ]
     },
     "execution_count": 55,
     "metadata": {},
     "output_type": "execute_result"
    }
   ],
   "source": [
    "template = \"\"\"Question: {question}\n",
    "\n",
    "Answer: Let's think step by step.\"\"\"\n",
    "\n",
    "prompt = ChatPromptTemplate.from_template(template)\n",
    "\n",
    "model = OllamaLLM(model=\"qwen2.5\")\n",
    "\n",
    "chain = prompt | model\n",
    "\n",
    "chain.invoke({\"question\": \"What is LangChain?\"})"
   ]
  },
  {
   "cell_type": "code",
   "execution_count": 59,
   "metadata": {},
   "outputs": [],
   "source": [
    "llm = OllamaLLM(model=\"qwen2.5\" , temperature=0.3 , max_tokens=1000)"
   ]
  },
  {
   "cell_type": "code",
   "execution_count": 58,
   "metadata": {},
   "outputs": [],
   "source": [
    "llm = ChatOpenAI(temperature=0, model_name='gpt-3.5-turbo')"
   ]
  },
  {
   "cell_type": "code",
   "execution_count": 60,
   "metadata": {},
   "outputs": [
    {
     "data": {
      "text/plain": [
       "21078"
      ]
     },
     "execution_count": 60,
     "metadata": {},
     "output_type": "execute_result"
    }
   ],
   "source": [
    "llm.get_num_tokens(text)"
   ]
  },
  {
   "cell_type": "code",
   "execution_count": 61,
   "metadata": {},
   "outputs": [],
   "source": [
    "## Splittting the text\n",
    "text_splitter = RecursiveCharacterTextSplitter(chunk_size=10000, chunk_overlap=20)\n",
    "chunks = text_splitter.create_documents([text])"
   ]
  },
  {
   "cell_type": "code",
   "execution_count": 62,
   "metadata": {},
   "outputs": [
    {
     "data": {
      "text/plain": [
       "9"
      ]
     },
     "execution_count": 62,
     "metadata": {},
     "output_type": "execute_result"
    }
   ],
   "source": [
    "len(chunks)"
   ]
  },
  {
   "cell_type": "code",
   "execution_count": 63,
   "metadata": {},
   "outputs": [],
   "source": [
    "chain = load_summarize_chain(\n",
    "    llm,\n",
    "    chain_type='map_reduce',\n",
    "    verbose=False\n",
    ")\n",
    "summary = chain.run(chunks)"
   ]
  },
  {
   "cell_type": "code",
   "execution_count": 47,
   "metadata": {},
   "outputs": [
    {
     "data": {
      "text/plain": [
       "\"The Indian Army Doctrine, published in 2004, outlines the Army's vision for the 21st century, emphasizing professionalism, ethics, and continuous training. It covers various aspects of warfare, including geo-strategic environment, operational perspectives, and logistics. The Doctrine discusses the concepts of balance of power, types of wars, and information warfare, emphasizing the use of force to maintain peace. It also touches on the offensive employment of Information Warfare techniques and the Principles of War. The text discusses the operational, tactical, and strategic perspectives in military operations, highlighting the importance of leadership, communication systems, and combat power. It also discusses the impact of technology on military operations, including the Revolution in Military Affairs and the modernization of weapon systems. Additionally, it outlines potential Indian plans of attack against Bangladesh and the military capabilities and strategies of India and China.\""
      ]
     },
     "execution_count": 47,
     "metadata": {},
     "output_type": "execute_result"
    }
   ],
   "source": [
    "summary"
   ]
  },
  {
   "cell_type": "markdown",
   "metadata": {},
   "source": [
    "## Map Reduce With Custom Prompts"
   ]
  },
  {
   "cell_type": "code",
   "execution_count": 49,
   "metadata": {},
   "outputs": [],
   "source": [
    "chunks_prompt=\"\"\"\n",
    "Please summarize the `{text}'\n",
    "Summary:\n",
    "\"\"\"\n",
    "map_prompt_template=PromptTemplate(input_variables=['text'],\n",
    "                                    template=chunks_prompt)"
   ]
  },
  {
   "cell_type": "code",
   "execution_count": 73,
   "metadata": {},
   "outputs": [],
   "source": [
    "final_combine_prompt='''\n",
    "Provide a detailed summary of the entire document with important points.\n",
    "Start the precise and detailed summary with an introduction and provide the\n",
    "summary in number points for the speech.`{text}`\n",
    "'''\n",
    "final_combine_prompt_template=PromptTemplate(input_variables=['text'],\n",
    "                                             template=final_combine_prompt)"
   ]
  },
  {
   "cell_type": "code",
   "execution_count": 74,
   "metadata": {},
   "outputs": [],
   "source": [
    "summary_chain = load_summarize_chain(\n",
    "    llm=llm,\n",
    "    chain_type='map_reduce',\n",
    "    map_prompt=map_prompt_template,\n",
    "    combine_prompt=final_combine_prompt_template,\n",
    "    verbose=False\n",
    ")\n",
    "output = summary_chain.run(chunks)"
   ]
  },
  {
   "cell_type": "code",
   "execution_count": 75,
   "metadata": {},
   "outputs": [
    {
     "data": {
      "text/plain": [
       "'### Summary\\n\\nThe provided text discusses the impact of technological advancements on modern military affairs (RMA) and how these changes are reshaping warfare. Key points include:\\n\\n1. **Technological Impact on Warfare:**\\n   - Recent conflicts have highlighted significant shifts in war-fighting due to technology.\\n   - There is a need for a \"homespun\" RMA that meets specific national needs.\\n\\n2. **Revolution in Military Affairs (RMA):**\\n   - RMA refers to major changes brought about by the innovative application of new technologies, combined with dramatic changes in military doctrine and operations.\\n   - It involves four main constituents: doctrine, technology, tactics, and training.\\n\\n3. **Key Components of RMA:**\\n   - **Information Warfare (IW):** A critical component for future war-fighting doctrines.\\n   - **Dominant Manoeuvre:** Utilizing advanced technologies to gain battlefield superiority.\\n   - **Precision Engagement:** High-precision strikes using advanced weaponry.\\n   - **Full-Dimensional Protection:** Comprehensive defense strategies.\\n   - **Focused Logistics:** Efficient supply chain management.\\n\\n4. **Application in Context:**\\n   - The passage suggests an incremental approach to adopting these principles and technologies.\\n   - Emphasis on leveraging existing infrastructure, such as the strong base in information technology.\\n   - Potential for Network-Centric Warfare (NCW) given the country\\'s geographical dispersion needs.\\n\\n5. **Challenges and Adaptations:**\\n   - Significant changes may be required in concepts, organizational philosophies, and attitudes to fully leverage RMA.\\n   - The move towards greater use of high-tech systems will necessitate evolving exploitation strategies.\\n\\n6. **Future Directions:**\\n   - Optimal utilization of existing infrastructure (e.g., information technology).\\n   - Joint efforts with other services for seamless operations.\\n   - Exploiting the advantages of operating with geographically dispersed forces, especially in a nuclearized environment.\\n\\n### Detailed Breakdown\\n\\n1. **Surprise and Deception:**\\n   - Surprise is crucial but becoming increasingly difficult to achieve due to battlefield transparency.\\n   - Effective use of deception remains essential despite technological advancements.\\n\\n2. **Military Exercises (India and Pakistan):**\\n   - Key exercises include Daaz Gati (November 2015) and Vijay Prahar (2013), among others from 2004-2018/2016-2018.\\n   - These reflect the ongoing strategic military competition between India and Pakistan.\\n\\n3. **India\\'s Force Modernization:**\\n   - Focus on executing Long War Doctrine-2018, indicating a modernization effort to enhance conventional military capabilities.\\n\\n4. **Pakistan\\'s Military Exercises (2004-2020):**\\n   - Key elements include rebinding enemy lines operations, reconnaissance capabilities, and night vision and shallow penetration capabilities.\\n   - These exercises highlight Pakistan’s strategic focus on counter-offensive strategies.\\n\\n5. **US Strategic Assistance to India:**\\n   - The passage mentions U.S. involvement in providing strategic assistance to India to counter Chinese threats, particularly in the context of disputed territories like the Himalayan regions.\\n\\n6. **Operational Mobilization and Disaster Relief Operations (India):**\\n   - 32 ships, 8 aircraft, and 21 helicopters were mobilized for an operation.\\n   - These assets were used in post-disaster relief operations following a national security strategy and policy directive.\\n\\n7. **Organizational Hierarchy:**\\n   - The structure includes levels from the RAKSHA MANTRI (Minister of Defence) down to various service headquarters, corps equivalents, and operational units.\\n   - Key roles include General Officers (Army, Air Force, Navy), Air Marshals, Admirals, Vice Admirals, Rear Admirals, and various lower ranks.\\n\\n8. **Capability Dimensions:**\\n   - The Indian Army\\'s capability dimensions are outlined as Mission, Talent, Integration, Insights, Process, and Technology.\\n   - These dimensions define how the organization will operate, deliver outcomes, manage resources, and utilize technology to achieve its strategic objectives.\\n\\n9. **Operational Planning:**\\n   - Focuses on creating capabilities through specific courses of action (COAs) and operational architectures that integrate systems and resources for battle procedures and activities.\\n\\n### Conclusion\\n\\nThe document provides a comprehensive overview of the military strategies, exercises, and organizational structures of India and Pakistan from 2004 to 2018/2020. It highlights the strategic competition between the two nations in response to Chinese threats and U.S. involvement in India\\'s defense strategy. Additionally, it emphasizes the operational mobilization and disaster relief capabilities of the Indian military. The text underscores the importance of adapting to technological advancements while maintaining traditional military doctrines and strategies.'"
      ]
     },
     "execution_count": 75,
     "metadata": {},
     "output_type": "execute_result"
    }
   ],
   "source": [
    "output"
   ]
  },
  {
   "cell_type": "markdown",
   "metadata": {},
   "source": [
    "## RefineChain For Summarization"
   ]
  },
  {
   "cell_type": "code",
   "execution_count": 39,
   "metadata": {},
   "outputs": [
    {
     "name": "stdout",
     "output_type": "stream",
     "text": [
      "\n",
      "\n",
      "\u001b[1m> Entering new RefineDocumentsChain chain...\u001b[0m\n",
      "\n",
      "\n",
      "\u001b[1m> Entering new LLMChain chain...\u001b[0m\n",
      "Prompt after formatting:\n",
      "\u001b[32;1m\u001b[1;3mWrite a concise summary of the following:\n",
      "\n",
      "\n",
      "\"A P J Abdul Kalam Departing speech \n",
      " \n",
      " \n",
      "Friends, I am delighted to address you all, in the country and those livi ng abroad, after \n",
      "working with you and completing five beautiful and eventful years in Rashtrapati \n",
      "Bhavan. Today, it is indeed a thanks giving occasion. I would like to narr ate, how I \n",
      "enjoyed every minute of my tenure enriched by the wonderful assoc iation from each one \n",
      "of you, hailing from different walks of life, be it politics, sci ence and technology, \n",
      "academics, arts, literature, business, judiciary, administration, local bodies, farming, \n",
      "home makers, special children, media and above all from the youth and st udent \n",
      "community who are the future wealth of our country. During my intera ction at \n",
      "Rashtrapati Bhavan in Delhi and at every state and union territor y as well as through my \n",
      "online interactions, I have many unique experiences to share with you, which signify the \n",
      "following important messages: \n",
      " \n",
      "1. Accelerate development : Aspiration of the youth, \n",
      " \n",
      "2. Empower villages, \n",
      " \n",
      "3. Mobilize rural core competence for competitiveness, \n",
      " \n",
      "4. Seed to Food: Backbone for agricultural growth \n",
      " \n",
      "5. Defeat problems and succeed, \n",
      " \n",
      "6. Overcome problems through partnership, \n",
      " \n",
      "7. Courage in combating calamities, \n",
      " \n",
      "8. Connectivity for societal transformation, \n",
      " \n",
      "9. Defending the nation: Our pride and \n",
      " \n",
      "10. Youth movement for Developed India 2020. \n",
      " \n",
      "Now let me share with you each of the messages. \n",
      " \n",
      "Accelerate Development: Aspiration of the youth \n",
      "While there were many significant events during my tenure, a que stion from a little girl \n",
      "Anukriti of Sri Sathya Sai Jagriti Vidya Mandir School, of Dar wa village from Haryana, \n",
      "during children’s visit to Rashtrapati Bhavan on May 22, 2006, rings in my  mind ever \n",
      "after. \n",
      " \n",
      "Anukriti asked me “why India cannot become a developed nation before the year 2020”. I \n",
      "appreciated the question and said it was indeed a thoughtful question and as sured her that \n",
      "that her dream would be taken to the highest institution of the nation and we would work for it to achieve before 2020. This question reflects how the desire t o live in developed \n",
      "India has entered into the minds of the youth. The same feelings are  echoed by over \n",
      "fifteen lakh youth, whom I have met so far and who represent the drea m of the 540 \n",
      "million youth of the nation. The aspirations of the young to live in a prosperous, safe and \n",
      "proud India should be the guiding factor in whatever profession we contribute. \n",
      " \n",
      "Empower Villages \n",
      "Friends, I recall my visit to Nagaland on 26th October 2002, soon after m y assuming \n",
      "office as President. It was a unique experience for me at Khuza ma village to meet tribal \n",
      "village council members and discuss with them the village progress  and the dream of \n",
      "village citizens. I was very happy to see the empowered village  council functioning with \n",
      "financial powers and taking decisions. I saw a prosperous village with fruits and \n",
      "vegetables production. However, there is a need for providing physical c onnectivity in \n",
      "Nagaland through quality roads for enabling faster movement of produ cts from villages \n",
      "to the market. That meeting gave me a powerful message about the t ransformation which \n",
      "can take place to the 600,000 villages of India, if all the villages a re empowered to deal \n",
      "with their development and are well connected among themselves and wit h the urban \n",
      "societies. \n",
      " \n",
      "Mobilizing rural core competence for competitiveness \n",
      "Now I would like to talk about the initiative of Periyar Maniammai  College of \n",
      "Technology for Women, Vallam, Tanjore of Providing Urban Amenities in Rural Areas \n",
      "(PURA) complex involving 65 villages with a population of 3 lakhs. This inc ludes \n",
      "provision of three connectivities - physical, electronic and knowledge  - leading to \n",
      "economic connectivity. Periyar PURA has health care centers, pr imary to post graduate \n",
      "level education and vocational training centers. This has resulted i n large-scale \n",
      "employment generation and creation of number of entrepreneurs with the  active support \n",
      "of 1000 self-help groups. Two hundred acres of waste land has been develope d into a \n",
      "cultivable land. The villagers are busy in cultivation, planting Jatropha, herbal and \n",
      "medicinal plants, power generation using bio-mass, food processing and above all \n",
      "running marketing centers. It provides a sustainable economic developm ent model for the \n",
      "whole region. \n",
      " \n",
      "During the last eight months, people of Periyar PURA villages technologically supported \n",
      "by Periyar Maniammai College of Engineering for Women have w orked with experts \n",
      "from Japan External Trade Organisation (JETRO) on various products, for  which core \n",
      "competence and raw material are available in Thanjavur district. They developed \n",
      "internationally competitive prototypes for 55 life style products wi th support of JETRO \n",
      "specialists and feedback from exhibitions at Delhi and Tokyo. This co -operative venture \n",
      "has enhanced the innovative ability of the people of all the 65 villages  enabling them to \n",
      "develop and produce internationally acceptable products. I have seen si milar type of \n",
      "PURA being established in many states. The whole country needs 7000 PU RA to \n",
      "bridging the rural – urban divide. \n",
      " \n",
      "Seed to Food: Backbone for agricultural growth Let me now share with you, the enriching experience I had, whil e meeting more than \n",
      "6000 farmers from different States and Union Territories visitin g Rashtrapati Bhavan. \n",
      "They evinced keen interest in the Mughal Gardens, the Herbal Gardens , the Spiritual \n",
      "Garden, the Musical Garden, the Bio-diesel garden and the Nutrition Garden and interact \n",
      "with the Horticultural specialists. Recently, during my address to the agricultural \n",
      "scientists while participating in a National Symposium on “Agri culture Cannot Wait”, I \n",
      "summarized the many practical suggestions given by farmers. W e have to double the \n",
      "agricultural production with reduced land, reduced water resources and re duced \n",
      "manpower and improve the economic conditions of the nation through the principle  of \n",
      "“Seed to Food” since agriculture is the backbone of the nation. We should em power the \n",
      "farmers to protect and nurture the fertile land for second green re volution. Meeting the \n",
      "Scientists and the Farmers has given me the confidence \n",
      "that the nation is poised to increase the agricultural GDP growth by atleast 4% per annum \n",
      "through the partnership of farmers and agricultural scientists a nd industries particularly \n",
      "for value addition. \n",
      " \n",
      "Defeat the problems and succeed \n",
      "On the evening of February 24, 2007, at Coimbatore, I had a very beautif ul experience. \n",
      "As I got ready for meeting the first person out of twenty appoint ments, a wheel chair was \n",
      "in sight with a smiling person probably in his late fifties; unfortunately he has no hands \n",
      "and legs. His radiant face was revealing his happy state of mi nd. He introduced himself \n",
      "as Vidwan Coimbatore SR Krishna Murthy. I greeted him and asked him  how this had \n",
      "happened. He smilingly said that it was from by birth. He thanked G od, his parents, \n",
      "teachers and many others for giving him confidence, training and he lp. I asked him, what \n",
      "I could do for him? He said, “I don’t need anything from you. I would like to sing in fr ont \n",
      "of you”. I readily agreed. He sang melodiously the Saint Thyagraj a’s pancha ratna kriti \n",
      "entharo mahanubavulu in Sriragam giving me a glimpse of his talent. I was quite  touched. \n",
      "What is the message? Despite being physically challenged, the latent talent of music \n",
      "could blossom in this \n",
      "person with his positive attitude and perseverance, encouraged by the pa rents, teachers, \n",
      "academics and rasikas. Now he wants to give, give and give his art to inspire others. Of \n",
      "course, by his merit of music, in July 2007, he performed in the Rashtra pati Bhavan art \n",
      "theatre. \n",
      " \n",
      "Overcome the impact of disaster through partnership \n",
      "I had the opportunity to experience the Indomitable Spirit of the people  and children of \n",
      "Jammu & Kashmir even as they were just recovering from the de vastating earthquake in \n",
      "2005. I visited Urusa village on 26th November 2005 which has been adopted by the  \n",
      "Western Air Command, Air Force for providing relief and medical aid to the residents of \n",
      "that area. When I went there, I found that the school building had been severely  damaged. \n",
      "I met all the school children and the village citizen of Urusa. T he villagers apprised me of \n",
      "their losses and had all praise for Army and Air Force role in rescue and relief operations \n",
      "along with state government. I appreciate the courage of the people of Urusa in defeating \n",
      "their problems. They have actually become the master of the probl em rather than \n",
      "allowing problems to become their master. Despite the severe l oss due to the earthquake, the children and the members of the village participated in the reli ef operation with the \n",
      "Armed Forces \n",
      "bravely and were smiling when I went to meet them. They interact ed with me and said \n",
      "that the school was functional in the temporary tents. Here, I also witnessed the \n",
      "participation of acting Chief Justice of Jammu & Kashmir along with State Government \n",
      "authorities in on-the-spot settlement of relief grants to be provide d to the victims whose \n",
      "houses had been damaged in the earth quake. I have experienced many s uch acts of \n",
      "courage from our citizens when faced with severe challenges. \n",
      " \n",
      "Courage in combating calamities \n",
      "In 2005, I met the Tribal Council Leaders, Students, Children of Chuckchucha  village \n",
      "during my visit to Car Nicobar Islands. While various reconstruction a nd rehabilitation \n",
      "activities were in progress, during the discussions with the members  of tribal council, I \n",
      "realized the unique trait among the Car-Nicobar islanders. Even thoug h there were many \n",
      "human losses due to the Tsunami of 26 Dec 2004, the tribal islanders had  taken \n",
      "possession of affected victims as their children and there is nothi ng like orphanage in \n",
      "Car-Nicobar Islands. Touched by their courage, I composed few vers es called “Sea\"\n",
      "\n",
      "\n",
      "CONCISE SUMMARY:\u001b[0m\n",
      "\n",
      "\u001b[1m> Finished chain.\u001b[0m\n",
      "\n",
      "\n",
      "\u001b[1m> Entering new LLMChain chain...\u001b[0m\n",
      "Prompt after formatting:\n",
      "\u001b[32;1m\u001b[1;3mYour job is to produce a final summary.\n",
      "We have provided an existing summary up to a certain point: Former President of India, A P J Abdul Kalam, gave a departing speech after completing five years in office. He expressed gratitude for the support and collaboration he received from various sectors of society. He highlighted important messages such as the need to accelerate development, empower villages, mobilize rural core competence, focus on agriculture, overcome challenges, and defend the nation. He shared personal experiences of meeting inspiring individuals, including a disabled musician and resilient communities affected by natural disasters.\n",
      "We have the opportunity to refine the existing summary (only if needed) with some more context below.\n",
      "------------\n",
      "Waves” which reads as follows: \n",
      "Sea Waves \n",
      " \n",
      "We are the children of Sea waves, \n",
      "Sea waves are my friends. \n",
      "When they become angry, \n",
      "Sea waves give the challenges. \n",
      "God has given the courage, \n",
      "To challenge the sea waves. \n",
      "And we will succeed, \n",
      "We will succeed \n",
      "With Almighty’s grace. \n",
      "All the members who were gathered in the village sang the poem  with me and exhibited \n",
      "lots of courage and enthusiasm even though they had gone through severe  suffering \n",
      "during the Tsunami. \n",
      " \n",
      "Connectivity for societal transformation \n",
      "I addressed the Pan African Parliament on 16 September 2004, at Johanne sburg, South \n",
      "Africa. This was attended by 53 member countries of the Africa n Union, where I \n",
      "proposed the concept of Pan African e-Network for providing seamless and integrated \n",
      "satellite, fiber optics and wireless network connecting 53 African countries at an \n",
      "estimated cost of US $ 100 million. \n",
      " \n",
      "As part of the project 12 universities (7 from India and 5 from Afri ca), 17 Super \n",
      "Specialty Hospitals (12 from India and 5 from Africa), 53 tele-me dicine centers and 53 \n",
      "tele-education centres in Africa will be connected. The pilot proj ect on tele-education and \n",
      "tele-medicine in Ethiopia has already been commissioned. Indira Gandh i National Open \n",
      "University has taken up the MBA Course for 34 Ethiopian students of Addis  Ababa and \n",
      "Harmaya Universities. As regards, tele-medicine, the special ists from CARE Hospital, Hyderabad are providing one-hour live tele-consultation to doctors in B lack Lion \n",
      "Hospital, Addis Ababa in Cardiology and Radiology since November 2006. Using the \n",
      "Pan African network the Heads of the State in all the 53 countries  will be connected for \n",
      "instant communication. I am extremely happy that Indian experience  in bringing the \n",
      "benefits of technology to the people has enabled us to work with Afric a to bring societal \n",
      "transformation in the African continent. \n",
      " \n",
      "Defending the nation: Our pride \n",
      "I visited KUMAR in Siachen Glacier located at 17,000 feet altitude  held by the Indian \n",
      "Army, had a memorable underwater journey in INS Sindhurakshak and flew  in a Sukhoi-\n",
      "30 fighter experiencing 2.5 g. In these three experiences, I personal ly felt proud of our \n",
      "ever vigilant Soldiers, Sailors and Air Warriors performing their  tasks beyond the call of \n",
      "their duty even in the most adverse circumstances natural and man m ade. During the last \n",
      "five years, I had an opportunity to present colours to many regime nts, participate in \n",
      "number of passing out parades, meet the troops who were going to undertake  peace \n",
      "missions and interact with the family members of our Defence F orces. Our Defence \n",
      "Forces are in a beautiful mission. When the nation sleeps during night , Members of our \n",
      "Defence teams are awake to guard us and remain vigilant to counte r any threat. The \n",
      "Nation cherishes the valour, commitment and devotion to duty of our Defenc e Forces. \n",
      "Similarly, I had opportunities to interact \n",
      "with members of our para-military forces, central and state poli ce personnel including \n",
      "internal security forces who are making immense contribution in au gmenting the safety \n",
      "and security of our citizens under difficult conditions. \n",
      " \n",
      "Youth movement for Developed India 2020 \n",
      "Recently, in Hyderabad, I met a group of citizens who are putting i nto practice the motto \n",
      "of transforming of our youth into enlightened citizen. The Lead India 2020 Found ation \n",
      "created by Dr. N.B. Sudershan at Hyderabad is training thousands of s tudents in many \n",
      "districts of Andhra Pradesh in partnership with the District Adm inistration. Particularly, I \n",
      "happened to know the transformation which has taken place among the students  of \n",
      "Medak district. As per the district authorities the impact of the  training on the students is \n",
      "visible in terms of self-discipline, love for their parents and tea chers shedding of stage \n",
      "fear and recognition of their duties towards the nation. I talke d to Ms. Padma, a student \n",
      "leader from Andhra Pradesh Tribal Welfare School, Nalgonda who relat ed how she \n",
      "weaned her father away from smoking after imbibing the spirit of  the 10 point oath from \n",
      "the Lead India Training Camp. This gives me an assurance that the  youth of our country \n",
      "are on the right path \n",
      "through this mission oriented programme. With the ignited minds of the  540 million \n",
      "youth below the age of 25, which I consider is the most powerful resour ce on the earth, \n",
      "under the earth and above the earth, we have to empower the youth through va lue based \n",
      "education and leadership. \n",
      " \n",
      "Conclusion \n",
      "I was touched by the variety of Indian panorama, emotional content of  the tune, cultural \n",
      "diversity and unity of minds in the vast land of ours. I have cited thes e examples just to \n",
      "give a glimpse of the richness of our tradition and effort being take n by different agencies to preserve it. There are also many new adventures by instituti ons and individuals. I have \n",
      "experienced many of them and learnt a lot about my country and our peopl e. Even while \n",
      "pursuing our economic growth, we need to do a lot to preserve the rich and diverse \n",
      "treasures of our culture and civilization. It is our duty for our fut ure generations. This has \n",
      "to be done in a much larger scale through countrywide participatio n of multiple \n",
      "institutions. Our country is blessed with natural resources, has shown c onsiderable \n",
      "progress in the last sixty years, and above all we have hard wor king people particularly \n",
      "the power of the 540 million youth of the country. Every sector of our count ry has given \n",
      "me the \n",
      "confidence that India can become a developed nation well before 2020. Whomsoeve r, I \n",
      "met they constantly ask what they can give to the nation. We should c onstantly strive to \n",
      "empower such members of the society. With this spirit, I am extr emely happy that we are \n",
      "on the right path. Here I am reminded of a famous poem: \n",
      "\"When you wish upon a star, \n",
      "Makes no difference who you are, \n",
      "Anything your heart desires, \n",
      "Will come to you” \n",
      "This poem is true to all of us, and particularly for our youth and i f they aim great, I am \n",
      "sure they will reach close to the target or the target. \n",
      " \n",
      "My dear citizens, let us resolve to continue to work for realizing the missions of \n",
      "developed India 2020 with the following distinctive profile. \n",
      " \n",
      "1. A Nation where the rural and urban divide has reduced to a thin line. \n",
      " \n",
      "2. A Nation where there is an equitable distribution and adequate acce ss to energy and \n",
      "quality water. \n",
      " \n",
      "3. A Nation where agriculture, industry and service sector work together in sym phony. \n",
      " \n",
      "4. A Nation where education with value system is not denied to any meritorious \n",
      "candidates because of societal or economic discrimination. \n",
      " \n",
      "5. A Nation which is the best destination for the most talented s cholars, scientists, and \n",
      "investors. \n",
      " \n",
      "6. A Nation where the best of health care is available to all. \n",
      " \n",
      "7. A Nation where the governance is responsive, transparent and corruption free. \n",
      " \n",
      "8. A Nation where poverty has been totally eradicated, illiterac y removed and crimes \n",
      "against women and children are absent and none in the society feels alienated. \n",
      " \n",
      "9. A Nation that is prosperous, healthy, secure, peaceful and happy a nd continues with a \n",
      "sustainable growth path. \n",
      " 10. A Nation that is one of the best places to live in and is proud of its leadership. \n",
      " \n",
      "Finally let me thank each one of you for showering your love and aff ection on me \n",
      "throughout the last five years by your cooperation and support. \n",
      " \n",
      "Dear Citizens, I conclude my address by sharing with you my mission in life which is to \n",
      "bring connectivity between billion hearts and minds of the people of Indi a in our \n",
      "multicultural society and to embed the self confidence that \"we c an do it\". I will be \n",
      "always with you, dear citizens, in the great mission of making Indi a a developed nation \n",
      "before 2020. \n",
      " \n",
      "May God bless you. \n",
      " \n",
      "Jai hind. \n",
      "Dr. A. P. J. Abdul Kalam \n",
      "www.presidentofindia.nic.in\n",
      "------------\n",
      "Given the new context, refine the original summary.\n",
      "If the context isn't useful, return the original summary.\u001b[0m\n",
      "\n",
      "\u001b[1m> Finished chain.\u001b[0m\n",
      "\n",
      "\u001b[1m> Finished chain.\u001b[0m\n"
     ]
    }
   ],
   "source": [
    "chain = load_summarize_chain(\n",
    "    llm=llm,\n",
    "    chain_type='refine',\n",
    "    verbose=True\n",
    ")\n",
    "output_summary = chain.run(chunks)"
   ]
  },
  {
   "cell_type": "code",
   "execution_count": null,
   "metadata": {},
   "outputs": [
    {
     "data": {
      "text/plain": [
       "'Former President of India, A P J Abdul Kalam, gave a departing speech after completing five years in office. He expressed gratitude for the support and collaboration he received from various sectors of society. He highlighted important messages such as the need to accelerate development, empower villages, prioritize agriculture, and promote courage in the face of calamities. He also emphasized the importance of youth in shaping the future of India. Additionally, he shared experiences of his visits to Siachen Glacier and his interactions with the defense forces and para-military forces. He mentioned the Pan African e-Network project and the efforts to empower the youth through value-based education and leadership. He concluded by outlining his vision for a developed India by 2020, with a focus on reducing rural-urban divide, equitable distribution of resources, and a corruption-free governance.'"
      ]
     },
     "execution_count": 138,
     "metadata": {},
     "output_type": "execute_result"
    }
   ],
   "source": [
    "output_summary"
   ]
  },
  {
   "cell_type": "code",
   "execution_count": null,
   "metadata": {},
   "outputs": [],
   "source": []
  }
 ],
 "metadata": {
  "kernelspec": {
   "display_name": "Python 3 (ipykernel)",
   "language": "python",
   "name": "python3"
  },
  "language_info": {
   "codemirror_mode": {
    "name": "ipython",
    "version": 3
   },
   "file_extension": ".py",
   "mimetype": "text/x-python",
   "name": "python",
   "nbconvert_exporter": "python",
   "pygments_lexer": "ipython3",
   "version": "3.10.15"
  }
 },
 "nbformat": 4,
 "nbformat_minor": 4
}
